{
 "cells": [
  {
   "cell_type": "markdown",
   "metadata": {},
   "source": [
    "# [WUM] PD4 - Mateusz Polakowski\n",
    "Czwarta praca domowa opiera się na zbadaniu działania i celności algorytmu *Support Vector Machine* (*SVM*). Zrobimy to korzystając z dwóch zbiorów: *apartments* z R-owego pakietu *DALEX* oraz *vehicle* zaciągniętego z *OpenML*. Wybór taki można wytłumaczyć między innymi tym, że *apartments* jest problemem regresji, natomiast *vehicle*, dla odmiany, klasyfikacji. Spojrzymy na oba problemy symultanicznie, aby wysnuwać wnioski z kolejnych etapów ulepszających predykcję."
   ]
  },
  {
   "cell_type": "markdown",
   "metadata": {},
   "source": [
    "## Załadowanie potrzebnych pakietów i definicja funkcji"
   ]
  },
  {
   "cell_type": "code",
   "execution_count": 164,
   "metadata": {},
   "outputs": [],
   "source": [
    "import pandas as pd\n",
    "import numpy as np\n",
    "from sklearn.model_selection import train_test_split, RandomizedSearchCV\n",
    "from sklearn.preprocessing.data import StandardScaler\n",
    "from category_encoders import OneHotEncoder\n",
    "from sklearn.pipeline import Pipeline\n",
    "from sklearn.svm import SVC, SVR\n",
    "import sklearn.metrics\n",
    "import openml\n",
    "from math import sqrt\n",
    "import warnings\n",
    "warnings.filterwarnings('ignore')\n",
    "\n",
    "def evaluate_model(model, df_subsets, task):\n",
    "    \"\"\"\n",
    "        Uczy model, a następnie zwraca wynik ewaluacji, w zależności od zadania:\n",
    "        - regresja - RMSE (root_mean_squared_error)\n",
    "        - klasyfikacja - ACC (accuracy)\n",
    "    \"\"\"\n",
    "    model.fit(df_subsets[0], df_subsets[2]) # X_train,y_train\n",
    "    \n",
    "    if task == \"classification\":\n",
    "        return np.round(sklearn.metrics.accuracy_score(df_subsets[3], \n",
    "                                                       model.predict(df_subsets[1])), # y_test, X_test\n",
    "                        4)\n",
    "    elif task == \"regression\":\n",
    "        return np.round(sqrt(sklearn.metrics.mean_squared_error(df_subsets[3], \n",
    "                                                                model.predict(df_subsets[1]))), # y_test, X_test\n",
    "                        4)"
   ]
  },
  {
   "cell_type": "markdown",
   "metadata": {},
   "source": [
    "## Wczytanie danych\n",
    "### vehicle"
   ]
  },
  {
   "cell_type": "code",
   "execution_count": 139,
   "metadata": {},
   "outputs": [
    {
     "data": {
      "text/html": [
       "<div>\n",
       "<style scoped>\n",
       "    .dataframe tbody tr th:only-of-type {\n",
       "        vertical-align: middle;\n",
       "    }\n",
       "\n",
       "    .dataframe tbody tr th {\n",
       "        vertical-align: top;\n",
       "    }\n",
       "\n",
       "    .dataframe thead th {\n",
       "        text-align: right;\n",
       "    }\n",
       "</style>\n",
       "<table border=\"1\" class=\"dataframe\">\n",
       "  <thead>\n",
       "    <tr style=\"text-align: right;\">\n",
       "      <th></th>\n",
       "      <th>COMPACTNESS</th>\n",
       "      <th>CIRCULARITY</th>\n",
       "      <th>DISTANCE_CIRCULARITY</th>\n",
       "      <th>RADIUS_RATIO</th>\n",
       "      <th>PR.AXIS_ASPECT_RATIO</th>\n",
       "      <th>MAX.LENGTH_ASPECT_RATIO</th>\n",
       "      <th>SCATTER_RATIO</th>\n",
       "      <th>ELONGATEDNESS</th>\n",
       "      <th>PR.AXIS_RECTANGULARITY</th>\n",
       "      <th>MAX.LENGTH_RECTANGULARITY</th>\n",
       "      <th>SCALED_VARIANCE_MAJOR</th>\n",
       "      <th>SCALED_VARIANCE_MINOR</th>\n",
       "      <th>SCALED_RADIUS_OF_GYRATION</th>\n",
       "      <th>SKEWNESS_ABOUT_MAJOR</th>\n",
       "      <th>SKEWNESS_ABOUT_MINOR</th>\n",
       "      <th>KURTOSIS_ABOUT_MAJOR</th>\n",
       "      <th>KURTOSIS_ABOUT_MINOR</th>\n",
       "      <th>HOLLOWS_RATIO</th>\n",
       "      <th>Class</th>\n",
       "    </tr>\n",
       "  </thead>\n",
       "  <tbody>\n",
       "    <tr>\n",
       "      <th>0</th>\n",
       "      <td>95.0</td>\n",
       "      <td>48.0</td>\n",
       "      <td>83.0</td>\n",
       "      <td>178.0</td>\n",
       "      <td>72.0</td>\n",
       "      <td>10.0</td>\n",
       "      <td>162.0</td>\n",
       "      <td>42.0</td>\n",
       "      <td>20.0</td>\n",
       "      <td>159.0</td>\n",
       "      <td>176.0</td>\n",
       "      <td>379.0</td>\n",
       "      <td>184.0</td>\n",
       "      <td>70.0</td>\n",
       "      <td>6.0</td>\n",
       "      <td>16.0</td>\n",
       "      <td>187.0</td>\n",
       "      <td>197.0</td>\n",
       "      <td>3</td>\n",
       "    </tr>\n",
       "    <tr>\n",
       "      <th>1</th>\n",
       "      <td>91.0</td>\n",
       "      <td>41.0</td>\n",
       "      <td>84.0</td>\n",
       "      <td>141.0</td>\n",
       "      <td>57.0</td>\n",
       "      <td>9.0</td>\n",
       "      <td>149.0</td>\n",
       "      <td>45.0</td>\n",
       "      <td>19.0</td>\n",
       "      <td>143.0</td>\n",
       "      <td>170.0</td>\n",
       "      <td>330.0</td>\n",
       "      <td>158.0</td>\n",
       "      <td>72.0</td>\n",
       "      <td>9.0</td>\n",
       "      <td>14.0</td>\n",
       "      <td>189.0</td>\n",
       "      <td>199.0</td>\n",
       "      <td>3</td>\n",
       "    </tr>\n",
       "    <tr>\n",
       "      <th>2</th>\n",
       "      <td>104.0</td>\n",
       "      <td>50.0</td>\n",
       "      <td>106.0</td>\n",
       "      <td>209.0</td>\n",
       "      <td>66.0</td>\n",
       "      <td>10.0</td>\n",
       "      <td>207.0</td>\n",
       "      <td>32.0</td>\n",
       "      <td>23.0</td>\n",
       "      <td>158.0</td>\n",
       "      <td>223.0</td>\n",
       "      <td>635.0</td>\n",
       "      <td>220.0</td>\n",
       "      <td>73.0</td>\n",
       "      <td>14.0</td>\n",
       "      <td>9.0</td>\n",
       "      <td>188.0</td>\n",
       "      <td>196.0</td>\n",
       "      <td>1</td>\n",
       "    </tr>\n",
       "    <tr>\n",
       "      <th>3</th>\n",
       "      <td>93.0</td>\n",
       "      <td>41.0</td>\n",
       "      <td>82.0</td>\n",
       "      <td>159.0</td>\n",
       "      <td>63.0</td>\n",
       "      <td>9.0</td>\n",
       "      <td>144.0</td>\n",
       "      <td>46.0</td>\n",
       "      <td>19.0</td>\n",
       "      <td>143.0</td>\n",
       "      <td>160.0</td>\n",
       "      <td>309.0</td>\n",
       "      <td>127.0</td>\n",
       "      <td>63.0</td>\n",
       "      <td>6.0</td>\n",
       "      <td>10.0</td>\n",
       "      <td>199.0</td>\n",
       "      <td>207.0</td>\n",
       "      <td>3</td>\n",
       "    </tr>\n",
       "    <tr>\n",
       "      <th>4</th>\n",
       "      <td>85.0</td>\n",
       "      <td>44.0</td>\n",
       "      <td>70.0</td>\n",
       "      <td>205.0</td>\n",
       "      <td>103.0</td>\n",
       "      <td>52.0</td>\n",
       "      <td>149.0</td>\n",
       "      <td>45.0</td>\n",
       "      <td>19.0</td>\n",
       "      <td>144.0</td>\n",
       "      <td>241.0</td>\n",
       "      <td>325.0</td>\n",
       "      <td>188.0</td>\n",
       "      <td>127.0</td>\n",
       "      <td>9.0</td>\n",
       "      <td>11.0</td>\n",
       "      <td>180.0</td>\n",
       "      <td>183.0</td>\n",
       "      <td>2</td>\n",
       "    </tr>\n",
       "  </tbody>\n",
       "</table>\n",
       "</div>"
      ],
      "text/plain": [
       "   COMPACTNESS  CIRCULARITY  DISTANCE_CIRCULARITY  RADIUS_RATIO  \\\n",
       "0         95.0         48.0                  83.0         178.0   \n",
       "1         91.0         41.0                  84.0         141.0   \n",
       "2        104.0         50.0                 106.0         209.0   \n",
       "3         93.0         41.0                  82.0         159.0   \n",
       "4         85.0         44.0                  70.0         205.0   \n",
       "\n",
       "   PR.AXIS_ASPECT_RATIO  MAX.LENGTH_ASPECT_RATIO  SCATTER_RATIO  \\\n",
       "0                  72.0                     10.0          162.0   \n",
       "1                  57.0                      9.0          149.0   \n",
       "2                  66.0                     10.0          207.0   \n",
       "3                  63.0                      9.0          144.0   \n",
       "4                 103.0                     52.0          149.0   \n",
       "\n",
       "   ELONGATEDNESS  PR.AXIS_RECTANGULARITY  MAX.LENGTH_RECTANGULARITY  \\\n",
       "0           42.0                    20.0                      159.0   \n",
       "1           45.0                    19.0                      143.0   \n",
       "2           32.0                    23.0                      158.0   \n",
       "3           46.0                    19.0                      143.0   \n",
       "4           45.0                    19.0                      144.0   \n",
       "\n",
       "   SCALED_VARIANCE_MAJOR  SCALED_VARIANCE_MINOR  SCALED_RADIUS_OF_GYRATION  \\\n",
       "0                  176.0                  379.0                      184.0   \n",
       "1                  170.0                  330.0                      158.0   \n",
       "2                  223.0                  635.0                      220.0   \n",
       "3                  160.0                  309.0                      127.0   \n",
       "4                  241.0                  325.0                      188.0   \n",
       "\n",
       "   SKEWNESS_ABOUT_MAJOR  SKEWNESS_ABOUT_MINOR  KURTOSIS_ABOUT_MAJOR  \\\n",
       "0                  70.0                   6.0                  16.0   \n",
       "1                  72.0                   9.0                  14.0   \n",
       "2                  73.0                  14.0                   9.0   \n",
       "3                  63.0                   6.0                  10.0   \n",
       "4                 127.0                   9.0                  11.0   \n",
       "\n",
       "   KURTOSIS_ABOUT_MINOR  HOLLOWS_RATIO  Class  \n",
       "0                 187.0          197.0      3  \n",
       "1                 189.0          199.0      3  \n",
       "2                 188.0          196.0      1  \n",
       "3                 199.0          207.0      3  \n",
       "4                 180.0          183.0      2  "
      ]
     },
     "execution_count": 139,
     "metadata": {},
     "output_type": "execute_result"
    }
   ],
   "source": [
    "dataset = openml.datasets.get_dataset(54)\n",
    "X, y, categorical, names = dataset.get_data(\n",
    "    target=dataset.default_target_attribute,\n",
    "    return_categorical_indicator=True,\n",
    "    return_attribute_names=True,\n",
    "    include_ignore_attributes=True\n",
    ")\n",
    "\n",
    "vals = {}\n",
    "for i, name in enumerate(names):\n",
    "    vals[name] = X[:, i]\n",
    "vals[dataset.default_target_attribute] = y\n",
    "df_vehicle = pd.DataFrame(vals)\n",
    "X_vehicle, y_vehicle = df_vehicle.drop(\"Class\", axis=1), df_vehicle.loc[:, \"Class\"]\n",
    "subsets_vehicle = train_test_split(X_vehicle, y_vehicle,\n",
    "                                   test_size=0.15,\n",
    "                                   random_state=1410)\n",
    "\n",
    "df_vehicle.head()"
   ]
  },
  {
   "cell_type": "markdown",
   "metadata": {},
   "source": [
    "### apartments"
   ]
  },
  {
   "cell_type": "code",
   "execution_count": 149,
   "metadata": {},
   "outputs": [
    {
     "data": {
      "text/html": [
       "<div>\n",
       "<style scoped>\n",
       "    .dataframe tbody tr th:only-of-type {\n",
       "        vertical-align: middle;\n",
       "    }\n",
       "\n",
       "    .dataframe tbody tr th {\n",
       "        vertical-align: top;\n",
       "    }\n",
       "\n",
       "    .dataframe thead th {\n",
       "        text-align: right;\n",
       "    }\n",
       "</style>\n",
       "<table border=\"1\" class=\"dataframe\">\n",
       "  <thead>\n",
       "    <tr style=\"text-align: right;\">\n",
       "      <th></th>\n",
       "      <th>m2.price</th>\n",
       "      <th>construction.year</th>\n",
       "      <th>surface</th>\n",
       "      <th>floor</th>\n",
       "      <th>no.rooms</th>\n",
       "      <th>district</th>\n",
       "    </tr>\n",
       "  </thead>\n",
       "  <tbody>\n",
       "    <tr>\n",
       "      <th>0</th>\n",
       "      <td>5897</td>\n",
       "      <td>1953</td>\n",
       "      <td>25</td>\n",
       "      <td>3</td>\n",
       "      <td>1</td>\n",
       "      <td>Srodmiescie</td>\n",
       "    </tr>\n",
       "    <tr>\n",
       "      <th>1</th>\n",
       "      <td>1818</td>\n",
       "      <td>1992</td>\n",
       "      <td>143</td>\n",
       "      <td>9</td>\n",
       "      <td>5</td>\n",
       "      <td>Bielany</td>\n",
       "    </tr>\n",
       "    <tr>\n",
       "      <th>2</th>\n",
       "      <td>3643</td>\n",
       "      <td>1937</td>\n",
       "      <td>56</td>\n",
       "      <td>1</td>\n",
       "      <td>2</td>\n",
       "      <td>Praga</td>\n",
       "    </tr>\n",
       "    <tr>\n",
       "      <th>3</th>\n",
       "      <td>3517</td>\n",
       "      <td>1995</td>\n",
       "      <td>93</td>\n",
       "      <td>7</td>\n",
       "      <td>3</td>\n",
       "      <td>Ochota</td>\n",
       "    </tr>\n",
       "    <tr>\n",
       "      <th>4</th>\n",
       "      <td>3013</td>\n",
       "      <td>1992</td>\n",
       "      <td>144</td>\n",
       "      <td>6</td>\n",
       "      <td>5</td>\n",
       "      <td>Mokotow</td>\n",
       "    </tr>\n",
       "  </tbody>\n",
       "</table>\n",
       "</div>"
      ],
      "text/plain": [
       "   m2.price  construction.year  surface  floor  no.rooms     district\n",
       "0      5897               1953       25      3         1  Srodmiescie\n",
       "1      1818               1992      143      9         5      Bielany\n",
       "2      3643               1937       56      1         2        Praga\n",
       "3      3517               1995       93      7         3       Ochota\n",
       "4      3013               1992      144      6         5      Mokotow"
      ]
     },
     "execution_count": 149,
     "metadata": {},
     "output_type": "execute_result"
    }
   ],
   "source": [
    "df_apartments = pd.read_csv(\"./../../../../Datasets/PD4 - SVM/apartments.csv\").iloc[:, 1:]\n",
    "X_apartments, y_apartments = df_apartments.drop(\"m2.price\", axis=1), df_apartments['m2.price']\n",
    "subsets_apartments = train_test_split(X_apartments, y_apartments,\n",
    "                                      test_size=0.15,\n",
    "                                      random_state=1410)\n",
    "df_apartments.head()"
   ]
  },
  {
   "cell_type": "markdown",
   "metadata": {},
   "source": [
    "## Predykcja na domyślnych modelach\n",
    "\n",
    "### vehicle"
   ]
  },
  {
   "cell_type": "code",
   "execution_count": 160,
   "metadata": {},
   "outputs": [
    {
     "data": {
      "text/plain": [
       "0.2677"
      ]
     },
     "execution_count": 160,
     "metadata": {},
     "output_type": "execute_result"
    }
   ],
   "source": [
    "evaluate_model(SVC(), \n",
    "               subsets_vehicle, \n",
    "               \"classification\")"
   ]
  },
  {
   "cell_type": "markdown",
   "metadata": {},
   "source": [
    "### apartments"
   ]
  },
  {
   "cell_type": "code",
   "execution_count": 217,
   "metadata": {},
   "outputs": [
    {
     "data": {
      "text/plain": [
       "919.5456"
      ]
     },
     "execution_count": 217,
     "metadata": {},
     "output_type": "execute_result"
    }
   ],
   "source": [
    "# OneHotEncoding użyty do zakodowania dzielnic\n",
    "evaluate_model(Pipeline([(\"OneHotEncoder\", OneHotEncoder()),\n",
    "                         (\"SVR\", SVR())]), \n",
    "               subsets_apartments, \n",
    "               \"regression\")"
   ]
  },
  {
   "cell_type": "markdown",
   "metadata": {},
   "source": [
    "Jak widać, powyższe wyniki nie są wcale satysfakcjonujące, a wręcz zatrważająco słabe. $27\\%$ celności i średnio tysiąc błędu w estymacji ceny za metr kwadratowy mieszkania oscylującej w okolicach kilku tysięcy to faktycznie kiepski wynik. Spróbujmy najpierw przyjrzeć się standaryzacji danych o której mowa w [tym artykule](http://pyml.sourceforge.net/doc/howto.pdf):\n",
    "\n",
    "### vehicle"
   ]
  },
  {
   "cell_type": "code",
   "execution_count": 162,
   "metadata": {},
   "outputs": [
    {
     "data": {
      "text/plain": [
       "0.7402"
      ]
     },
     "execution_count": 162,
     "metadata": {},
     "output_type": "execute_result"
    }
   ],
   "source": [
    "evaluate_model(Pipeline([('StandardScaler', StandardScaler()), \n",
    "                         ('SVC', SVC())]),\n",
    "               subsets_vehicle,\n",
    "               \"classification\")"
   ]
  },
  {
   "cell_type": "markdown",
   "metadata": {},
   "source": [
    "### apartments"
   ]
  },
  {
   "cell_type": "code",
   "execution_count": 163,
   "metadata": {},
   "outputs": [
    {
     "data": {
      "text/plain": [
       "894.8422"
      ]
     },
     "execution_count": 163,
     "metadata": {},
     "output_type": "execute_result"
    }
   ],
   "source": [
    "evaluate_model(Pipeline([(\"OneHotEncoder\", OneHotEncoder()),\n",
    "                         (\"StandardScaler\", StandardScaler()),\n",
    "                         (\"SVR\", SVR())]), \n",
    "               subsets_apartments, \n",
    "               \"regression\")"
   ]
  },
  {
   "cell_type": "markdown",
   "metadata": {},
   "source": [
    "W modelu opartym na danych ze zbioru *vehicle* widać ogromną różnicę, natomiast w przypadku *apartments* jedynie subtelną. Został jeszcze chwyt, który w tej pracy przećwiczymy, mianowicie użycie algorytmu z pakietu *model_selection*, a mianowicie *RandomizedSearchCV*. Jest to analogia do algorytmu *GridSearchCV* w szukaniu najbardziej optymalnych hiperparametrów. Różnią się tym, żeby zamiast sprawdzać wszystkich możliwości, które mogą się namnożyć bardzo szybko, algorytm sprawdza tylko określoną liczbe iteracji wskazanych *możliwości* hiperparametrów. Nawiązując do artykułu oraz możliwości jądra *RBF* w algorytmie *SVM*, zastosujemy wyszukiwanie najlepszych wartości hiperparametrów C, *gamma* oraz *shrinking*:"
   ]
  },
  {
   "cell_type": "code",
   "execution_count": 172,
   "metadata": {},
   "outputs": [],
   "source": [
    "param_dist_vehicle = {\n",
    "    \"SVC__C\": [0.5] + list(np.arange(1, 100, 5)),\n",
    "    \"SVC__gamma\": [0.01, 0.03,0.05, 0.07, 0.1, 0.3, 0.5, 0.7] + list(np.arange(1, 100, 10)),\n",
    "    \"SVC__shrinking\": [True, False]\n",
    "}\n",
    "\n",
    "param_dist_apartments = {\n",
    "    \"SVR__C\": [0.5] + list(np.arange(1, 100, 5)),\n",
    "    \"SVR__gamma\": [0.01, 0.03,0.05, 0.07, 0.1, 0.3, 0.5, 0.7] + list(np.arange(1, 100, 10)),\n",
    "    \"SVR__shrinking\": [True, False]\n",
    "}"
   ]
  },
  {
   "cell_type": "markdown",
   "metadata": {},
   "source": [
    "### vehicle"
   ]
  },
  {
   "cell_type": "code",
   "execution_count": 177,
   "metadata": {},
   "outputs": [
    {
     "name": "stdout",
     "output_type": "stream",
     "text": [
      "Accuracy: 0.8475\n",
      "Best params: {'SVC__shrinking': True, 'SVC__gamma': 0.05, 'SVC__C': 56}\n"
     ]
    }
   ],
   "source": [
    "random_search_vehicle = RandomizedSearchCV(Pipeline([('StandardScaler', StandardScaler()), \n",
    "                                                     ('SVC', SVC())]), \n",
    "                                           param_distributions=param_dist_vehicle, \n",
    "                                           n_iter=50, \n",
    "                                           cv=5, \n",
    "                                           scoring=\"accuracy\")\n",
    "random_search_vehicle.fit(X_vehicle, y_vehicle)\n",
    "print(\"Accuracy: \", np.round(random_search_vehicle.best_score_, 4), \"\\n\",\n",
    "      \"Best params: \", random_search_vehicle.best_params_, sep=\"\")"
   ]
  },
  {
   "cell_type": "markdown",
   "metadata": {},
   "source": [
    "### apartments"
   ]
  },
  {
   "cell_type": "code",
   "execution_count": 182,
   "metadata": {},
   "outputs": [
    {
     "name": "stdout",
     "output_type": "stream",
     "text": [
      "Root mean squared error: 291.64\n",
      "Best params: {'SVR__shrinking': False, 'SVR__gamma': 0.05, 'SVR__C': 81}\n"
     ]
    }
   ],
   "source": [
    "random_search_apartments = RandomizedSearchCV(Pipeline([(\"OneHotEncoder\", OneHotEncoder()),\n",
    "                                                        (\"StandardScaler\", StandardScaler()),\n",
    "                                                        (\"SVR\", SVR())]), \n",
    "                                           param_distributions=param_dist_apartments, \n",
    "                                           n_iter=50, \n",
    "                                           cv=5, \n",
    "                                           scoring=\"neg_mean_squared_error\")\n",
    "random_search_apartments.fit(X_apartments, y_apartments)\n",
    "print(\"Root mean squared error: \", np.round(sqrt(-random_search_apartments.best_score_), 2), \"\\n\",\n",
    "      \"Best params: \", random_search_apartments.best_params_, sep=\"\")"
   ]
  },
  {
   "cell_type": "markdown",
   "metadata": {},
   "source": [
    "Takie wyniki można uznać już za satysfakcjonujące - celność na zbiorze *vehicle* w okolicach rekordowej na serwisie *OpenML*, a średnia estymacja ceny zmniejszona z tysiąca do 300. Jak widać powyżej obie techniki, standaryzacja zmiennych oraz dobieranie hiperparametrów, znacząco mogą podnieść jakość modelu."
   ]
  }
 ],
 "metadata": {
  "kernelspec": {
   "display_name": "Python 3",
   "language": "python",
   "name": "python3"
  },
  "language_info": {
   "codemirror_mode": {
    "name": "ipython",
    "version": 3
   },
   "file_extension": ".py",
   "mimetype": "text/x-python",
   "name": "python",
   "nbconvert_exporter": "python",
   "pygments_lexer": "ipython3",
   "version": "3.7.2"
  }
 },
 "nbformat": 4,
 "nbformat_minor": 2
}
