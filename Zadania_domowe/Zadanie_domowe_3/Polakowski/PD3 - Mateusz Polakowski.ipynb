{
 "cells": [
  {
   "cell_type": "markdown",
   "metadata": {},
   "source": [
    "# [WUM] PD3 - Mateusz Polakowski\n",
    "\n",
    "Praca domowa polegała na wzięciu udziału w konkursie dotyczącym predykcji etykiety rodzaju zakupów klientów sieci *Walmart*. Szczegóły znajdują się [pod tym linkiem](https://www.kaggle.com/c/walmart-recruiting-trip-type-classification). Co prawda, konkurs zakończył się dawno temu, jednak dane są nadal dostępne, a problem inżynierii cech, który jest głównym tematem tej pracy, wziąż aktualny. <br/> \n",
    "\n",
    "W poniższym raporcie zobaczymy jak dobrą celność można uzyskać dzięki inżynierii cech wejściowego zbioru."
   ]
  },
  {
   "cell_type": "markdown",
   "metadata": {},
   "source": [
    "## Załadowanie potrzebnych pakietów"
   ]
  },
  {
   "cell_type": "code",
   "execution_count": 1,
   "metadata": {},
   "outputs": [],
   "source": [
    "from sklearn.model_selection import train_test_split, cross_val_score\n",
    "from sklearn.ensemble import RandomForestClassifier\n",
    "from sklearn.metrics import accuracy_score\n",
    "from sklearn.pipeline import Pipeline\n",
    "from sklearn.metrics import log_loss\n",
    "import matplotlib.pyplot as plt\n",
    "import category_encoders as ce\n",
    "import pandas as pd\n",
    "import numpy as np\n",
    "import warnings\n",
    "\n",
    "warnings.filterwarnings(\"ignore\")\n",
    "pd.options.display.max_rows = 200\n",
    "pd.options.display.max_columns = 100"
   ]
  },
  {
   "cell_type": "markdown",
   "metadata": {},
   "source": [
    "## Wczytanie danych"
   ]
  },
  {
   "cell_type": "code",
   "execution_count": 2,
   "metadata": {},
   "outputs": [],
   "source": [
    "df = pd.read_csv(\"./../../../../Datasets/PD3 - Walmart Trip Type/train.csv\")"
   ]
  },
  {
   "cell_type": "code",
   "execution_count": 3,
   "metadata": {},
   "outputs": [
    {
     "data": {
      "text/html": [
       "<div>\n",
       "<style scoped>\n",
       "    .dataframe tbody tr th:only-of-type {\n",
       "        vertical-align: middle;\n",
       "    }\n",
       "\n",
       "    .dataframe tbody tr th {\n",
       "        vertical-align: top;\n",
       "    }\n",
       "\n",
       "    .dataframe thead th {\n",
       "        text-align: right;\n",
       "    }\n",
       "</style>\n",
       "<table border=\"1\" class=\"dataframe\">\n",
       "  <thead>\n",
       "    <tr style=\"text-align: right;\">\n",
       "      <th></th>\n",
       "      <th>TripType</th>\n",
       "      <th>VisitNumber</th>\n",
       "      <th>Weekday</th>\n",
       "      <th>Upc</th>\n",
       "      <th>ScanCount</th>\n",
       "      <th>DepartmentDescription</th>\n",
       "      <th>FinelineNumber</th>\n",
       "    </tr>\n",
       "  </thead>\n",
       "  <tbody>\n",
       "    <tr>\n",
       "      <th>0</th>\n",
       "      <td>999</td>\n",
       "      <td>5</td>\n",
       "      <td>Friday</td>\n",
       "      <td>6.811315e+10</td>\n",
       "      <td>-1</td>\n",
       "      <td>FINANCIAL SERVICES</td>\n",
       "      <td>1000.0</td>\n",
       "    </tr>\n",
       "    <tr>\n",
       "      <th>1</th>\n",
       "      <td>30</td>\n",
       "      <td>7</td>\n",
       "      <td>Friday</td>\n",
       "      <td>6.053882e+10</td>\n",
       "      <td>1</td>\n",
       "      <td>SHOES</td>\n",
       "      <td>8931.0</td>\n",
       "    </tr>\n",
       "    <tr>\n",
       "      <th>2</th>\n",
       "      <td>30</td>\n",
       "      <td>7</td>\n",
       "      <td>Friday</td>\n",
       "      <td>7.410811e+09</td>\n",
       "      <td>1</td>\n",
       "      <td>PERSONAL CARE</td>\n",
       "      <td>4504.0</td>\n",
       "    </tr>\n",
       "    <tr>\n",
       "      <th>3</th>\n",
       "      <td>26</td>\n",
       "      <td>8</td>\n",
       "      <td>Friday</td>\n",
       "      <td>2.238404e+09</td>\n",
       "      <td>2</td>\n",
       "      <td>PAINT AND ACCESSORIES</td>\n",
       "      <td>3565.0</td>\n",
       "    </tr>\n",
       "    <tr>\n",
       "      <th>4</th>\n",
       "      <td>26</td>\n",
       "      <td>8</td>\n",
       "      <td>Friday</td>\n",
       "      <td>2.006614e+09</td>\n",
       "      <td>2</td>\n",
       "      <td>PAINT AND ACCESSORIES</td>\n",
       "      <td>1017.0</td>\n",
       "    </tr>\n",
       "  </tbody>\n",
       "</table>\n",
       "</div>"
      ],
      "text/plain": [
       "   TripType  VisitNumber Weekday           Upc  ScanCount  \\\n",
       "0       999            5  Friday  6.811315e+10         -1   \n",
       "1        30            7  Friday  6.053882e+10          1   \n",
       "2        30            7  Friday  7.410811e+09          1   \n",
       "3        26            8  Friday  2.238404e+09          2   \n",
       "4        26            8  Friday  2.006614e+09          2   \n",
       "\n",
       "   DepartmentDescription  FinelineNumber  \n",
       "0     FINANCIAL SERVICES          1000.0  \n",
       "1                  SHOES          8931.0  \n",
       "2          PERSONAL CARE          4504.0  \n",
       "3  PAINT AND ACCESSORIES          3565.0  \n",
       "4  PAINT AND ACCESSORIES          1017.0  "
      ]
     },
     "execution_count": 3,
     "metadata": {},
     "output_type": "execute_result"
    }
   ],
   "source": [
    "df.head()"
   ]
  },
  {
   "cell_type": "markdown",
   "metadata": {},
   "source": [
    "Opisy zmiennych skopiowane ze strony konkursu:\n",
    "* **TripType** - a categorical id representing the type of shopping trip the customer made. <br/> This is the ground truth that you are predicting. TripType_999 is an \"other\" category.\n",
    "* **VisitNumber** - an id corresponding to a single trip by a single customer\n",
    "* **Weekday** - the weekday of the trip\n",
    "* **UPC** - the *UPC* number of the product purchased\n",
    "* **ScanCount** - the number of the given item that was purchased. A negative value indicates a product return.\n",
    "* **DepartmentDescription** - a high-level description of the item's department\n",
    "* **FinelineNumber** - a more refined category for each of the products, created by Walmart"
   ]
  },
  {
   "cell_type": "markdown",
   "metadata": {},
   "source": [
    "## Analiza zbioru danych\n",
    "Zauważmy najpierw, że w tabeli są wiersze z brakującymi danymi. Przede wszystkim brakuje w tych rekordach informacji o numerze *UPC* produktów, czy podstawowej lub szczegółowej informacji na temat działu z którego dany produkt pochodzi. <br/>\n",
    "Nie jest to ogromny cios, ponieważ raczej skupić należy się gdzie indziej, niż na dokładnych numerach *UPC*. Mimo tego:"
   ]
  },
  {
   "cell_type": "code",
   "execution_count": 4,
   "metadata": {},
   "outputs": [
    {
     "name": "stdout",
     "output_type": "stream",
     "text": [
      "Odsetek rekordów posiadających brakujące dane: 0.638\n"
     ]
    }
   ],
   "source": [
    "print(\"Odsetek rekordów posiadających brakujące dane:\",\n",
    "      np.round(100 * len(df[df.isnull().any(axis=1)]) / len(df), 3))"
   ]
  },
  {
   "cell_type": "markdown",
   "metadata": {},
   "source": [
    "Zatem możemy sobie pozwolić na wyrzucenie nastręczających problemy rekordów:"
   ]
  },
  {
   "cell_type": "code",
   "execution_count": 5,
   "metadata": {},
   "outputs": [
    {
     "name": "stdout",
     "output_type": "stream",
     "text": [
      "Odsetek rekordów posiadających brakujące dane: 0.0\n"
     ]
    }
   ],
   "source": [
    "df.dropna(inplace = True)\n",
    "print(\"Odsetek rekordów posiadających brakujące dane:\",\n",
    "      np.round(100 * len(df[df.isnull().any(axis=1)]) / len(df), 3))"
   ]
  },
  {
   "cell_type": "markdown",
   "metadata": {},
   "source": [
    "## Inżynieria cech"
   ]
  },
  {
   "cell_type": "markdown",
   "metadata": {},
   "source": [
    "Niestety, ale liczba posiadanych cech nie jest wystarczająca, aby wyszkolić dobry model. Przejdźmy zatem do obróbki danych.\n",
    "\n",
    "Przede wszystkim dodajmy trzy nowe kolumny:\n",
    "* **UniqueProductsPerTrip** - liczba unikalnych przedmiotów kupionych / zwróconych,\n",
    "* **TotalProductsPerTrip** - liczba wszystkich przedmiotów kupionych / zwróconych,\n",
    "* **RateProductPerTrip** - stosunek dwóch powyższych."
   ]
  },
  {
   "cell_type": "code",
   "execution_count": 6,
   "metadata": {},
   "outputs": [],
   "source": [
    "df_temp = df.copy()\n",
    "df_temp.ScanCount = abs(df_temp.ScanCount)\n",
    "prod_summary = pd.concat([df_temp.groupby(\"VisitNumber\").size().reset_index().iloc[:, 1],\n",
    "                         df_temp.groupby(\"VisitNumber\").ScanCount.sum().reset_index().iloc[:, 1]],\n",
    "                         axis=1)\n",
    "\n",
    "unique_prod, total_prod, rate_prod = [], [], []\n",
    "for _, row in prod_summary.iterrows():\n",
    "    row = list(row)\n",
    "    unique_prod.extend([row[0]] * row[0])\n",
    "    total_prod.extend([row[1]] * row[0])\n",
    "    rate_prod.extend([np.round(row[0] / row[1], 2)] * row[0])\n",
    "df[\"UniqueProductsPerTrip\"] = unique_prod\n",
    "df[\"TotalProductPerTrip\"] = total_prod\n",
    "df[\"RateProductPerTrip\"] = rate_prod"
   ]
  },
  {
   "cell_type": "markdown",
   "metadata": {},
   "source": [
    "Skoro już zaczęliśmy wyciągać unikalne wartości z tabeli na podstawie cechy *VisitNumber*, to wyodrębnijmy również liczbę działów odwiedzonych podczas każdej wizyty w sklepie (nowa kolumna **UniqueDepartmentsPerTrip**):"
   ]
  },
  {
   "cell_type": "code",
   "execution_count": 7,
   "metadata": {},
   "outputs": [],
   "source": [
    "unique_dep = df.groupby([\"VisitNumber\", \"DepartmentDescription\"]).size().reset_index() \\\n",
    "                .groupby(\"VisitNumber\").size().reset_index()\n",
    "unique_dep_per_trip = []\n",
    "for _, row in pd.concat([df.groupby(\"VisitNumber\").size().reset_index().iloc[:, 1],\n",
    "                         unique_dep.iloc[:, 1]], \n",
    "                        axis=1).iterrows():\n",
    "    row = list(row)\n",
    "    unique_dep_per_trip.extend([row[1]] * row[0])\n",
    "df[\"UniqueDepartmentsPerTrip\"] = unique_dep_per_trip"
   ]
  },
  {
   "cell_type": "markdown",
   "metadata": {},
   "source": [
    "Patrząc na unikalne wartości kolumny *DepartmentDescription* można natrafić się na łudząco podobne dwie kategorie: *MENSWEAR* oraz *MENS WEAR* - połączmy je:"
   ]
  },
  {
   "cell_type": "code",
   "execution_count": 8,
   "metadata": {},
   "outputs": [],
   "source": [
    "df.DepartmentDescription = df.DepartmentDescription.apply(lambda x: \"MENSWEAR\" \n",
    "                                                          if x.startswith(\"MENS\") else x)"
   ]
  },
  {
   "cell_type": "markdown",
   "metadata": {},
   "source": [
    "---\n",
    "Teraz zajmijmy się głównym aspektem naszego zbioru danych. Istotny jest fakt, że wartość *TripType*, którą chcemy przewidywać, nie jest niczym losowym - jest to całkiem różniąca zbiór danych kategoria. Przykładowo, na grafice poniżej widać jakie działy odwiedzali klienci, których *TripType* był równy 19 - głównie *Electronics*. Analogiczne stwierdzenia można uzyskać zmieniając wartość filtrującą:"
   ]
  },
  {
   "cell_type": "code",
   "execution_count": 9,
   "metadata": {},
   "outputs": [
    {
     "data": {
      "image/png": "[encoded data removed]",
      "text/plain": [
       "<Figure size 1152x648 with 1 Axes>"
      ]
     },
     "metadata": {
      "needs_background": "light"
     },
     "output_type": "display_data"
    }
   ],
   "source": [
    "plt.figure(figsize=(16,9))\n",
    "df.loc[df.TripType==19,:].groupby('DepartmentDescription').size().plot(kind='bar', color='royalblue')\n",
    "plt.xlabel(\"\")\n",
    "plt.show()"
   ]
  },
  {
   "cell_type": "markdown",
   "metadata": {},
   "source": [
    "Utwórzmy zatem informacje w każdym rekordzie zbioru, która mówi, czy dokonany zakup był w najbardziej popularnym dziale danego *TripType* (nowa kolumna **WasMostPopDeptVis**):"
   ]
  },
  {
   "cell_type": "code",
   "execution_count": 10,
   "metadata": {},
   "outputs": [],
   "source": [
    "temp = df.groupby([\"TripType\", \"DepartmentDescription\"]).size().reset_index()\n",
    "temp.columns = list(temp.columns[:2]) + [\"Count\"]\n",
    "temp = pd.merge(temp.groupby(\"TripType\").Count.max().reset_index(), \n",
    "                temp, \n",
    "                how='left', on=['TripType', 'Count']).iloc[:, [0, 2]]\n",
    "df = pd.merge(df, temp, how='left', on='TripType')\n",
    "df[\"WasMostPopDeptVis\"] = pd.Series(df.DepartmentDescription_x == df.DepartmentDescription_y, dtype='int32')"
   ]
  },
  {
   "cell_type": "markdown",
   "metadata": {},
   "source": [
    "Ostatnie przymiarki zbioru danych przed kodowaniem pozostałych zmiennych kategorycznych:"
   ]
  },
  {
   "cell_type": "code",
   "execution_count": 11,
   "metadata": {},
   "outputs": [],
   "source": [
    "df['Target'] = df.TripType\n",
    "df = df.drop([\"VisitNumber\", \"Upc\", \n",
    "                \"DepartmentDescription_x\", \"DepartmentDescription_y\",\n",
    "                \"FinelineNumber\", \"ScanCount\"], axis=1)"
   ]
  },
  {
   "cell_type": "markdown",
   "metadata": {},
   "source": [
    "Powyższa inżynieria cech namieszała sporo w wejściowym zbiorze danych. Zanim przejdziemy do kodowania zmiennych, spójrzmy jak wygląda on teraz:"
   ]
  },
  {
   "cell_type": "code",
   "execution_count": 12,
   "metadata": {},
   "outputs": [
    {
     "data": {
      "text/html": [
       "<div>\n",
       "<style scoped>\n",
       "    .dataframe tbody tr th:only-of-type {\n",
       "        vertical-align: middle;\n",
       "    }\n",
       "\n",
       "    .dataframe tbody tr th {\n",
       "        vertical-align: top;\n",
       "    }\n",
       "\n",
       "    .dataframe thead th {\n",
       "        text-align: right;\n",
       "    }\n",
       "</style>\n",
       "<table border=\"1\" class=\"dataframe\">\n",
       "  <thead>\n",
       "    <tr style=\"text-align: right;\">\n",
       "      <th></th>\n",
       "      <th>TripType</th>\n",
       "      <th>Weekday</th>\n",
       "      <th>UniqueProductsPerTrip</th>\n",
       "      <th>TotalProductPerTrip</th>\n",
       "      <th>RateProductPerTrip</th>\n",
       "      <th>UniqueDepartmentsPerTrip</th>\n",
       "      <th>WasMostPopDeptVis</th>\n",
       "      <th>Target</th>\n",
       "    </tr>\n",
       "  </thead>\n",
       "  <tbody>\n",
       "    <tr>\n",
       "      <th>0</th>\n",
       "      <td>999</td>\n",
       "      <td>Friday</td>\n",
       "      <td>1</td>\n",
       "      <td>1</td>\n",
       "      <td>1.00</td>\n",
       "      <td>1</td>\n",
       "      <td>1</td>\n",
       "      <td>999</td>\n",
       "    </tr>\n",
       "    <tr>\n",
       "      <th>1</th>\n",
       "      <td>30</td>\n",
       "      <td>Friday</td>\n",
       "      <td>2</td>\n",
       "      <td>2</td>\n",
       "      <td>1.00</td>\n",
       "      <td>2</td>\n",
       "      <td>1</td>\n",
       "      <td>30</td>\n",
       "    </tr>\n",
       "    <tr>\n",
       "      <th>2</th>\n",
       "      <td>30</td>\n",
       "      <td>Friday</td>\n",
       "      <td>2</td>\n",
       "      <td>2</td>\n",
       "      <td>1.00</td>\n",
       "      <td>2</td>\n",
       "      <td>0</td>\n",
       "      <td>30</td>\n",
       "    </tr>\n",
       "    <tr>\n",
       "      <th>3</th>\n",
       "      <td>26</td>\n",
       "      <td>Friday</td>\n",
       "      <td>22</td>\n",
       "      <td>31</td>\n",
       "      <td>0.71</td>\n",
       "      <td>6</td>\n",
       "      <td>0</td>\n",
       "      <td>26</td>\n",
       "    </tr>\n",
       "    <tr>\n",
       "      <th>4</th>\n",
       "      <td>26</td>\n",
       "      <td>Friday</td>\n",
       "      <td>22</td>\n",
       "      <td>31</td>\n",
       "      <td>0.71</td>\n",
       "      <td>6</td>\n",
       "      <td>0</td>\n",
       "      <td>26</td>\n",
       "    </tr>\n",
       "  </tbody>\n",
       "</table>\n",
       "</div>"
      ],
      "text/plain": [
       "   TripType Weekday  UniqueProductsPerTrip  TotalProductPerTrip  \\\n",
       "0       999  Friday                      1                    1   \n",
       "1        30  Friday                      2                    2   \n",
       "2        30  Friday                      2                    2   \n",
       "3        26  Friday                     22                   31   \n",
       "4        26  Friday                     22                   31   \n",
       "\n",
       "   RateProductPerTrip  UniqueDepartmentsPerTrip  WasMostPopDeptVis  Target  \n",
       "0                1.00                         1                  1     999  \n",
       "1                1.00                         2                  1      30  \n",
       "2                1.00                         2                  0      30  \n",
       "3                0.71                         6                  0      26  \n",
       "4                0.71                         6                  0      26  "
      ]
     },
     "execution_count": 12,
     "metadata": {},
     "output_type": "execute_result"
    }
   ],
   "source": [
    "df.head()"
   ]
  },
  {
   "cell_type": "code",
   "execution_count": 13,
   "metadata": {},
   "outputs": [],
   "source": [
    "ce_one_hot = ce.OneHotEncoder(cols=['Weekday'])\n",
    "df = ce_one_hot.fit_transform(df).drop(\"Weekday_-1\", axis=1)\n",
    "\n",
    "ce_target = ce.TargetEncoder(cols=[\"TripType\"])\n",
    "df = ce_target.fit_transform(df, df.WasMostPopDeptVis)"
   ]
  },
  {
   "cell_type": "markdown",
   "metadata": {},
   "source": [
    "Poniżej jeszcze zobaczmy na wygląd zbioru danych po kodowaniu zmiennych, których jest o wiele więcej:"
   ]
  },
  {
   "cell_type": "code",
   "execution_count": 14,
   "metadata": {},
   "outputs": [
    {
     "data": {
      "text/html": [
       "<div>\n",
       "<style scoped>\n",
       "    .dataframe tbody tr th:only-of-type {\n",
       "        vertical-align: middle;\n",
       "    }\n",
       "\n",
       "    .dataframe tbody tr th {\n",
       "        vertical-align: top;\n",
       "    }\n",
       "\n",
       "    .dataframe thead th {\n",
       "        text-align: right;\n",
       "    }\n",
       "</style>\n",
       "<table border=\"1\" class=\"dataframe\">\n",
       "  <thead>\n",
       "    <tr style=\"text-align: right;\">\n",
       "      <th></th>\n",
       "      <th>Weekday_1</th>\n",
       "      <th>Weekday_2</th>\n",
       "      <th>Weekday_3</th>\n",
       "      <th>Weekday_4</th>\n",
       "      <th>Weekday_5</th>\n",
       "      <th>Weekday_6</th>\n",
       "      <th>Weekday_7</th>\n",
       "      <th>TripType</th>\n",
       "      <th>UniqueProductsPerTrip</th>\n",
       "      <th>TotalProductPerTrip</th>\n",
       "      <th>RateProductPerTrip</th>\n",
       "      <th>UniqueDepartmentsPerTrip</th>\n",
       "      <th>WasMostPopDeptVis</th>\n",
       "      <th>Target</th>\n",
       "    </tr>\n",
       "  </thead>\n",
       "  <tbody>\n",
       "    <tr>\n",
       "      <th>0</th>\n",
       "      <td>1</td>\n",
       "      <td>0</td>\n",
       "      <td>0</td>\n",
       "      <td>0</td>\n",
       "      <td>0</td>\n",
       "      <td>0</td>\n",
       "      <td>0</td>\n",
       "      <td>0.132788</td>\n",
       "      <td>1</td>\n",
       "      <td>1</td>\n",
       "      <td>1.00</td>\n",
       "      <td>1</td>\n",
       "      <td>1</td>\n",
       "      <td>999</td>\n",
       "    </tr>\n",
       "    <tr>\n",
       "      <th>1</th>\n",
       "      <td>1</td>\n",
       "      <td>0</td>\n",
       "      <td>0</td>\n",
       "      <td>0</td>\n",
       "      <td>0</td>\n",
       "      <td>0</td>\n",
       "      <td>0</td>\n",
       "      <td>0.235246</td>\n",
       "      <td>2</td>\n",
       "      <td>2</td>\n",
       "      <td>1.00</td>\n",
       "      <td>2</td>\n",
       "      <td>1</td>\n",
       "      <td>30</td>\n",
       "    </tr>\n",
       "    <tr>\n",
       "      <th>2</th>\n",
       "      <td>1</td>\n",
       "      <td>0</td>\n",
       "      <td>0</td>\n",
       "      <td>0</td>\n",
       "      <td>0</td>\n",
       "      <td>0</td>\n",
       "      <td>0</td>\n",
       "      <td>0.235246</td>\n",
       "      <td>2</td>\n",
       "      <td>2</td>\n",
       "      <td>1.00</td>\n",
       "      <td>2</td>\n",
       "      <td>0</td>\n",
       "      <td>30</td>\n",
       "    </tr>\n",
       "    <tr>\n",
       "      <th>3</th>\n",
       "      <td>1</td>\n",
       "      <td>0</td>\n",
       "      <td>0</td>\n",
       "      <td>0</td>\n",
       "      <td>0</td>\n",
       "      <td>0</td>\n",
       "      <td>0</td>\n",
       "      <td>0.302837</td>\n",
       "      <td>22</td>\n",
       "      <td>31</td>\n",
       "      <td>0.71</td>\n",
       "      <td>6</td>\n",
       "      <td>0</td>\n",
       "      <td>26</td>\n",
       "    </tr>\n",
       "    <tr>\n",
       "      <th>4</th>\n",
       "      <td>1</td>\n",
       "      <td>0</td>\n",
       "      <td>0</td>\n",
       "      <td>0</td>\n",
       "      <td>0</td>\n",
       "      <td>0</td>\n",
       "      <td>0</td>\n",
       "      <td>0.302837</td>\n",
       "      <td>22</td>\n",
       "      <td>31</td>\n",
       "      <td>0.71</td>\n",
       "      <td>6</td>\n",
       "      <td>0</td>\n",
       "      <td>26</td>\n",
       "    </tr>\n",
       "  </tbody>\n",
       "</table>\n",
       "</div>"
      ],
      "text/plain": [
       "   Weekday_1  Weekday_2  Weekday_3  Weekday_4  Weekday_5  Weekday_6  \\\n",
       "0          1          0          0          0          0          0   \n",
       "1          1          0          0          0          0          0   \n",
       "2          1          0          0          0          0          0   \n",
       "3          1          0          0          0          0          0   \n",
       "4          1          0          0          0          0          0   \n",
       "\n",
       "   Weekday_7  TripType  UniqueProductsPerTrip  TotalProductPerTrip  \\\n",
       "0          0  0.132788                      1                    1   \n",
       "1          0  0.235246                      2                    2   \n",
       "2          0  0.235246                      2                    2   \n",
       "3          0  0.302837                     22                   31   \n",
       "4          0  0.302837                     22                   31   \n",
       "\n",
       "   RateProductPerTrip  UniqueDepartmentsPerTrip  WasMostPopDeptVis  Target  \n",
       "0                1.00                         1                  1     999  \n",
       "1                1.00                         2                  1      30  \n",
       "2                1.00                         2                  0      30  \n",
       "3                0.71                         6                  0      26  \n",
       "4                0.71                         6                  0      26  "
      ]
     },
     "execution_count": 14,
     "metadata": {},
     "output_type": "execute_result"
    }
   ],
   "source": [
    "df.head()"
   ]
  },
  {
   "cell_type": "markdown",
   "metadata": {},
   "source": [
    "Finalnie, przejdźmy do predykcji. Można zauważyć, że wszystkie powyższe manewry doprowadziły nas do satysfakcjonujących wyników celności przewidywań modelu oraz niskich wyników funkcji *log_loss*, którą użytkownicy serwisu *Kaggle* byli w konkursie oceniani:"
   ]
  },
  {
   "cell_type": "code",
   "execution_count": 15,
   "metadata": {},
   "outputs": [],
   "source": [
    "X_proc, y_proc = df.drop(\"Target\", axis=1).reset_index(drop=True), df.Target.reset_index(drop=True)\n",
    "X_proc, y_proc = X_proc.loc[np.logical_not(X_proc.duplicated())], y_proc[np.logical_not(X_proc.duplicated())]"
   ]
  },
  {
   "cell_type": "code",
   "execution_count": 16,
   "metadata": {},
   "outputs": [
    {
     "name": "stdout",
     "output_type": "stream",
     "text": [
      "Celność modelu: 0.8153711108943724\n",
      "Log_loss modelu: 0.9777822357458902\n"
     ]
    }
   ],
   "source": [
    "model = RandomForestClassifier(random_state=42)\n",
    "X_train, X_test, y_train, y_test = train_test_split(X_proc, y_proc, \n",
    "                                                    test_size=0.2, \n",
    "                                                    random_state=1234)\n",
    "X_train, X_test = X_train.reset_index(drop=True), X_test.reset_index(drop=True)\n",
    "y_train, y_test = y_train.reset_index(drop=True), y_test.reset_index(drop=True)\n",
    "\n",
    "model.fit(X_train, y_train)\n",
    "print(\"Celność modelu:\", accuracy_score(y_test, model.predict(X_test)))\n",
    "print(\"Log_loss modelu:\", log_loss(y_test, model.predict_proba(X_test)))"
   ]
  }
 ],
 "metadata": {
  "kernelspec": {
   "display_name": "Python 3",
   "language": "python",
   "name": "python3"
  },
  "language_info": {
   "codemirror_mode": {
    "name": "ipython",
    "version": 3
   },
   "file_extension": ".py",
   "mimetype": "text/x-python",
   "name": "python",
   "nbconvert_exporter": "python",
   "pygments_lexer": "ipython3",
   "version": "3.7.2"
  }
 },
 "nbformat": 4,
 "nbformat_minor": 2
}
